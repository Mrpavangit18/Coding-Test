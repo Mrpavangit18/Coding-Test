{
 "cells": [
  {
   "cell_type": "code",
   "execution_count": 1,
   "id": "dab2808a",
   "metadata": {},
   "outputs": [],
   "source": [
    "# Task 3: Write a Python program to read a CSV file and display its contents."
   ]
  },
  {
   "cell_type": "code",
   "execution_count": 3,
   "id": "d74e39e7",
   "metadata": {},
   "outputs": [
    {
     "name": "stdout",
     "output_type": "stream",
     "text": [
      "Name, Age, City\n",
      "Alice, 30, New York\n",
      "Bob, 25, Los Angeles\n",
      "Charlie, 35, Chicago\n"
     ]
    }
   ],
   "source": [
    "import csv\n",
    "\n",
    "def read_csv(file_path):\n",
    "    # Open the CSV file in read mode\n",
    "    with open(file_path, 'r') as file:\n",
    "        reader = csv.reader(file)\n",
    "        \n",
    "        # Iterate over each row in the CSV file\n",
    "        for row in reader:\n",
    "            # Print the contents of the row\n",
    "            print(', '.join(row))\n",
    "\n",
    "# File path to the CSV file\n",
    "file_path = 'PythonTestQ2.csv'\n",
    "\n",
    "# Call the function to read and display the CSV file\n",
    "read_csv(file_path)\n"
   ]
  },
  {
   "cell_type": "code",
   "execution_count": null,
   "id": "5f82a7b5",
   "metadata": {},
   "outputs": [],
   "source": []
  }
 ],
 "metadata": {
  "kernelspec": {
   "display_name": "Python 3 (ipykernel)",
   "language": "python",
   "name": "python3"
  },
  "language_info": {
   "codemirror_mode": {
    "name": "ipython",
    "version": 3
   },
   "file_extension": ".py",
   "mimetype": "text/x-python",
   "name": "python",
   "nbconvert_exporter": "python",
   "pygments_lexer": "ipython3",
   "version": "3.11.4"
  }
 },
 "nbformat": 4,
 "nbformat_minor": 5
}
